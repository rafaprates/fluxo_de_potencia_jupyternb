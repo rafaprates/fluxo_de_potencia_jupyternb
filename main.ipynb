{
 "cells": [
  {
   "cell_type": "code",
   "execution_count": 21,
   "id": "842d31ae",
   "metadata": {},
   "outputs": [],
   "source": [
    "import math\n",
    "import cmath\n",
    "\n",
    "def ler_arquivo(nome_arquivo):\n",
    "    \"\"\"\n",
    "    nome_arquivo: é uma String com o endereço/nome do arquivo.\n",
    "    matriz: é o arquivo lido e retornado em forma de matriz.\n",
    "    \"\"\"\n",
    "    matriz = []\n",
    "    with open(nome_arquivo, 'r') as arquivo:\n",
    "        for linha in arquivo:\n",
    "            linha = linha.strip('\\n')\n",
    "            cada_linha_do_arquivo = linha.split(' ')\n",
    "            matriz.append(cada_linha_do_arquivo)\n",
    "    return matriz.copy()\n",
    "\n",
    "\n",
    "def extrair_coluna_da_matriz(matriz, indice_da_coluna):\n",
    "    \"\"\" \n",
    "    matriz: é a matriz na qual se deseja retirar a coluna.\n",
    "    indice_da_coluna: é o indice que se refere à coluna.\n",
    "    \"\"\"\n",
    "    coluna = []\n",
    "    for i in range(len(matriz)):\n",
    "        elemento_da_coluna = matriz[i][indice_da_coluna]\n",
    "        coluna.append(elemento_da_coluna)\n",
    "    return coluna\n",
    "\n",
    "\n",
    "def numerizar_vetor_string(vetor, tipo=int):\n",
    "    \"\"\" \n",
    "    vetor: vetor cujos elementos são Strings\n",
    "    tipo: int ou float\n",
    "    vetor_numerizado: vetor mapeado para o tipo informado\n",
    "    \"\"\"\n",
    "    vetor_numerizado = []\n",
    "    vetor_numerizado = vetor.copy()\n",
    "    if tipo == int:\n",
    "        vetor_numerizado = map(tipo, vetor_numerizado)\n",
    "    else:\n",
    "        vetor_numerizado = map(tipo, vetor_numerizado)\n",
    "    return list(vetor_numerizado).copy()\n",
    "\n",
    "\n",
    "def contar_numero_de_elementos_unicos(vetor_a, vetor_b):\n",
    "    \"\"\" \n",
    "    vetor_a: vetor de única dimensão\n",
    "    vetor_b: vetor de única dimensão\n",
    "    quantidade_elementos_unicos: quantidade de elementos únicos em vetor_a e vetor_b\n",
    "    \"\"\"\n",
    "    vetor_a = vetor_a.copy()\n",
    "    vetor_b = vetor_b.copy()\n",
    "    quantidade_elementos_unicos = 0\n",
    "    for i in range(len(vetor_a)):\n",
    "        elemento = vetor_a.pop()\n",
    "        if (elemento not in vetor_a) and (elemento not in vetor_b):\n",
    "            quantidade_elementos_unicos += 1\n",
    "\n",
    "    for i in range(len(vetor_b)):\n",
    "        elemento = vetor_b.pop()\n",
    "        if (elemento not in vetor_a) and (elemento not in vetor_b):\n",
    "            quantidade_elementos_unicos += 1  \n",
    "\n",
    "    return quantidade_elementos_unicos\n",
    "\n",
    "\n",
    "def cria_matriz_vazia_mxn(M, N):\n",
    "    \"\"\"\n",
    "    M: número de linhas\n",
    "    N: número de colunas\n",
    "    matriz: matriz vazia MxN\n",
    "    \"\"\"\n",
    "    matriz = []\n",
    "    for i in range(M):\n",
    "        matrizAux = []\n",
    "        for j in range(N):  \n",
    "           matrizAux.append(0)\n",
    "        matriz.append(matrizAux)\n",
    "    return matriz\n",
    "\n",
    "\n",
    "def vizinhos_da_barra(barra):\n",
    "    vizinhos = []\n",
    "    for i in range(n_barras):\n",
    "        if vetor_de[i] == barra:\n",
    "            vizinhos.append(vetor_para[i])\n",
    "        if vetor_para[i] == barra:\n",
    "            vizinhos.append(vetor_de[i])\n",
    "    return vizinhos\n",
    "\n",
    "def round_complex(x):\n",
    "    return complex(round(x.real, NUMERO_CASAS_DECIMAIS),round(x.imag, NUMERO_CASAS_DECIMAIS))"
   ]
  },
  {
   "cell_type": "markdown",
   "id": "8a3ba53b",
   "metadata": {},
   "source": [
    "### Configurações"
   ]
  },
  {
   "cell_type": "code",
   "execution_count": 22,
   "id": "b2d28e3b",
   "metadata": {},
   "outputs": [],
   "source": [
    "ARQUIVO_DELINHA = 'deLinha_2.txt'\n",
    "NUMERO_CASAS_DECIMAIS = 3"
   ]
  },
  {
   "cell_type": "markdown",
   "id": "70ecd56b",
   "metadata": {},
   "source": [
    "### Ler arquivos"
   ]
  },
  {
   "cell_type": "code",
   "execution_count": 23,
   "id": "37cab287",
   "metadata": {},
   "outputs": [],
   "source": [
    "matriz_dados_de_linha = []\n",
    "matriz_dados_de_barra = []\n",
    "#matriz_dados_de_barra = ler_arquivo('deBarra.txt')\n",
    "matriz_dados_de_linha = ler_arquivo(ARQUIVO_DELINHA)"
   ]
  },
  {
   "cell_type": "markdown",
   "id": "e12d216e",
   "metadata": {},
   "source": [
    "### Extrair colunas da matriz de linha\n",
    "\n",
    "Aqui se extrai em vetores as colunas DE, PARA, RPU, XPU e BshPu"
   ]
  },
  {
   "cell_type": "code",
   "execution_count": 24,
   "id": "cac811f3",
   "metadata": {},
   "outputs": [
    {
     "name": "stdout",
     "output_type": "stream",
     "text": [
      "VETOR_DE:     [1, 1, 2]\n",
      "VETOR_PARA:   [2, 3, 3]\n",
      "VETOR_R_PU:   [0.1, 0.2, 0.1]\n",
      "VETOR_X_PU:   [1.0, 2.0, 1.0]\n",
      "VETOR_Bsh_PU: [0.1, 0.2, 0.1]\n"
     ]
    }
   ],
   "source": [
    "vetor_de = extrair_coluna_da_matriz(matriz_dados_de_linha, 0)\n",
    "vetor_de = numerizar_vetor_string(vetor_de)\n",
    "print('VETOR_DE:    ', vetor_de)\n",
    "\n",
    "# vetor_para\n",
    "vetor_para = extrair_coluna_da_matriz(matriz_dados_de_linha, 1)\n",
    "vetor_para = numerizar_vetor_string(vetor_para)\n",
    "print('VETOR_PARA:  ', vetor_para)\n",
    "\n",
    "# vetor_rpu\n",
    "vetor_rpu = extrair_coluna_da_matriz(matriz_dados_de_linha, 2)\n",
    "vetor_rpu = numerizar_vetor_string(vetor_rpu, float)\n",
    "print('VETOR_R_PU:  ', vetor_rpu)\n",
    "\n",
    "# vetor_xpu\n",
    "vetor_xpu = extrair_coluna_da_matriz(matriz_dados_de_linha, 3)\n",
    "vetor_xpu = numerizar_vetor_string(vetor_xpu, float)\n",
    "print('VETOR_X_PU:  ', vetor_xpu)\n",
    "\n",
    "# vetor_bshpu\n",
    "vetor_bshpu = extrair_coluna_da_matriz(matriz_dados_de_linha, 4)\n",
    "vetor_bshpu = numerizar_vetor_string(vetor_bshpu, float)\n",
    "print('VETOR_Bsh_PU:', vetor_bshpu)"
   ]
  },
  {
   "cell_type": "markdown",
   "id": "4b473082",
   "metadata": {},
   "source": [
    "### Criar uma matriz MxN vazia\n",
    "\n",
    "M = NB\n",
    "\n",
    "N = NB\n",
    "\n",
    "Onde o NB (número de barras) é o número de elementos únicos contidos nas colunas DE e PARA"
   ]
  },
  {
   "cell_type": "code",
   "execution_count": 25,
   "id": "be56b44c",
   "metadata": {},
   "outputs": [
    {
     "name": "stdout",
     "output_type": "stream",
     "text": [
      "N_BARRAS: 3\n",
      "MATRIZ_G: [[0, 0, 0], [0, 0, 0], [0, 0, 0]]\n",
      "MATRIZ_B: [[0, 0, 0], [0, 0, 0], [0, 0, 0]]\n"
     ]
    }
   ],
   "source": [
    "n_barras = contar_numero_de_elementos_unicos(vetor_de, vetor_para)\n",
    "print('N_BARRAS:', n_barras)\n",
    "matriz_G = cria_matriz_vazia_mxn(n_barras, n_barras)\n",
    "matriz_B = cria_matriz_vazia_mxn(n_barras, n_barras)\n",
    "print('MATRIZ_G:', matriz_G)\n",
    "print('MATRIZ_B:', matriz_B)"
   ]
  },
  {
   "cell_type": "markdown",
   "id": "af40ef20",
   "metadata": {},
   "source": [
    "### Inserir os elementos fora da diagonal nas Matrizes G e B "
   ]
  },
  {
   "cell_type": "markdown",
   "id": "0392e927",
   "metadata": {},
   "source": [
    "$ Y_{km} = -y_{km}$"
   ]
  },
  {
   "cell_type": "code",
   "execution_count": 26,
   "id": "07572403",
   "metadata": {},
   "outputs": [],
   "source": [
    "for k, m, contador in zip(vetor_de, vetor_para, range(n_barras + 1)):\n",
    "    # contador acompanha as posições, mas não os valores de k e m, para pode alocar \n",
    "    # corretamente os valores do vetor r_pu\n",
    "    # -1 porque listas vão de 0 até n-1\n",
    "    \n",
    "    # MATRIZ G\n",
    "    matriz_G[k-1][m-1] = round(-1 / vetor_rpu[contador], NUMERO_CASAS_DECIMAIS)\n",
    "    matriz_G[m-1][k-1] = round(-1 / vetor_rpu[contador], NUMERO_CASAS_DECIMAIS)\n",
    "\n",
    "    # MATRIZ_B\n",
    "    matriz_B[k-1][m-1] = complex(0, round(-1 / vetor_xpu[contador], NUMERO_CASAS_DECIMAIS))\n",
    "    matriz_B[m-1][k-1] = complex(0, round(-1 / vetor_xpu[contador], NUMERO_CASAS_DECIMAIS))"
   ]
  },
  {
   "cell_type": "markdown",
   "id": "9d23fc95",
   "metadata": {},
   "source": [
    "### Inserir os elementos da diagonal nas Matrizes G e B\n",
    "\n",
    "$ Y_{kk} = \\sum_{m \\in \\Omega k}(y_{km} + j\\frac{b_{km}^{sh}}{2})$ \n",
    "\n",
    "tal que, \n",
    "\n",
    "$ \\Omega_k $ é todas as barras vizinhas."
   ]
  },
  {
   "cell_type": "code",
   "execution_count": 27,
   "id": "5232cc64",
   "metadata": {},
   "outputs": [],
   "source": [
    "for k in range(1, n_barras + 1):\n",
    "    indice = 0\n",
    "    for de, para in zip(vetor_de, vetor_para):\n",
    "        indice += 1\n",
    "        if k == de: \n",
    "            #TODO: pq esse elemento diagonal não esta sendo arredondado?\n",
    "            matriz_G_kesimo_elemento = round(1 / vetor_rpu[indice-1], NUMERO_CASAS_DECIMAIS)\n",
    "            matriz_G[k-1][k-1] += matriz_G_kesimo_elemento\n",
    "            \n",
    "            #matriz_B[k-1][k-1] += complex(0, round(1 / vetor_xpu[contador], NUMERO_CASAS_DECIMAIS))\n",
    "            \n",
    "            matriz_B[k-1][k-1] += round_complex(complex(0, 1 / vetor_xpu[contador]))\n",
    "            \n",
    "            #matriz_B[k-1][k-1] += complex(0, round(((1 / vetor_bshpu[contador]) / 2), NUMERO_CASAS_DECIMAIS))\n",
    "            \n",
    "            matriz_B[k-1][k-1] += round_complex(complex(0, ((1 / vetor_bshpu[contador]) / 2)))\n",
    "        if k == para:\n",
    "            matriz_G[k-1][k-1] += round(1 / vetor_rpu[indice-1], NUMERO_CASAS_DECIMAIS)\n",
    "            \n",
    "            matriz_B[k-1][k-1] += complex(0, round(1 / vetor_xpu[contador], NUMERO_CASAS_DECIMAIS))\n",
    "            matriz_B[k-1][k-1] += complex(0, round(((1 / vetor_bshpu[contador]) / 2), NUMERO_CASAS_DECIMAIS))\n",
    "            \n",
    "            #matriz_B[k-1][k-1] += round_complex(complex(0, 1 / vetor_xpu[contador]))\n",
    "            #matriz_B[k-1][k-1] += round_complex(complex(0, (1 / (vetor_bshpu[contador] / 2))))\n",
    "            \n",
    "            "
   ]
  },
  {
   "cell_type": "markdown",
   "id": "5b0eb90f",
   "metadata": {},
   "source": [
    "# Resultado parcial: Matriz_G e Matriz_B"
   ]
  },
  {
   "cell_type": "code",
   "execution_count": 28,
   "id": "f2740135",
   "metadata": {},
   "outputs": [
    {
     "name": "stdout",
     "output_type": "stream",
     "text": [
      "MATRIZ_G: [[15.0, -10.0, -5.0], [-10.0, 20.0, -10.0], [-5.0, -10.0, 15.0]]\n",
      "\n",
      "MATRIZ_B: [[12j, -1j, -0.5j], [-1j, 12j, -1j], [-0.5j, -1j, 12j]]\n"
     ]
    }
   ],
   "source": [
    "print('MATRIZ_G:', matriz_G)\n",
    "print()\n",
    "print('MATRIZ_B:', matriz_B)"
   ]
  },
  {
   "cell_type": "markdown",
   "id": "ce17f3ac",
   "metadata": {},
   "source": [
    "### Calcular as potências\n",
    "\n",
    "$ P_k = V_k \\sum_{m \\in \\kappa}V_m (G_{km} cos \\theta_{km} + B_{km} sin \\theta_{km}) $ \n",
    "\n",
    "$ Q_k = V_k \\sum_{m \\in \\kappa}V_m (G_{km} sin \\theta_{km} - B_{km} cos \\theta_{km}) $ \n",
    "\n",
    "tal que,\n",
    "\n",
    "$ \\kappa $ é todas as barras vizinha e a própria barra."
   ]
  },
  {
   "cell_type": "markdown",
   "id": "70e2362a",
   "metadata": {},
   "source": [
    "Sejam P_k e Q_k inicializados com flat-start"
   ]
  },
  {
   "cell_type": "code",
   "execution_count": 29,
   "id": "68d07ec7",
   "metadata": {},
   "outputs": [
    {
     "name": "stdout",
     "output_type": "stream",
     "text": [
      "V: [(1+0j), (1+0j), (1+0j)]\n",
      "Q: [(1+0j), (1+0j), (1+0j)]\n"
     ]
    }
   ],
   "source": [
    "V = []\n",
    "Q = []\n",
    "P = []\n",
    "Q = []\n",
    "V_k = complex(1, 0)\n",
    "Q_k = complex(1, 0)\n",
    "\n",
    "for interador in range(n_barras):\n",
    "    V.append(V_k)\n",
    "    Q.append(Q_k)\n",
    "    \n",
    "print('V:', V)\n",
    "print('Q:', Q)      "
   ]
  },
  {
   "cell_type": "code",
   "execution_count": 30,
   "id": "f37299fe",
   "metadata": {},
   "outputs": [
    {
     "name": "stdout",
     "output_type": "stream",
     "text": [
      "barra: 0\n",
      "vizinhas []\n",
      "barra: 1\n",
      "vizinhas [2, 3]\n",
      "barra: 2\n",
      "vizinhas [1, 3]\n",
      "(21.0, 0.0)\n",
      "(11.0, 0.0)\n",
      "(4.0, 3.141592653589793)\n",
      "(11.0, 0.0)\n",
      "P: [(21+0j), (11+0j), (-4+0j), (11+0j)]\n",
      "(1.0, 0.0)\n",
      "(1.0, 0.0)\n",
      "(1.0, 0.0)\n",
      "(12.041594578792296, -1.4876550949064553)\n",
      "(11.045361017187261, -1.4801364395941514)\n",
      "(1.118033988749895, 0.4636476090008061)\n",
      "(11.543396380615196, -1.4840579881189115)\n",
      "Q: [(1+0j), (1+0j), (1+0j), (1-12j), (1-11j), (1+0.5j), (1-11.5j)]\n"
     ]
    }
   ],
   "source": [
    "\n",
    "\n",
    "# m - 1 pq as barras vão de 1...nb e os indices de 0...nb-1\n",
    "for k in range(n_barras):\n",
    "    barras_vizinhas = vizinhos_da_barra(k)\n",
    "    print('barra:', k)\n",
    "    print('vizinhas', barras_vizinhas)\n",
    "    P_k = V[k]\n",
    "    Q_k = V[k]\n",
    "    for m in barras_vizinhas:\n",
    "        \n",
    "        theta_k = cmath.phase(matriz_G[k][m-1])\n",
    "        theta_m = cmath.phase(matriz_G[k][m-1])\n",
    "        theta_k_m = theta_k - theta_m\n",
    "        \n",
    "        P_k += V[m-1] * matriz_G[k][m-1] * math.cos(theta_k_m) + matriz_B[k][m-1] * math.sin(theta_k_m)\n",
    "        P.append(round_complex(P_k))\n",
    "        #P.append(P_k)\n",
    "        Q_k += V[m-1] * matriz_G[k][m-1] * math.sin(theta_k_m) - matriz_B[k][m-1] * math.cos(theta_k_m)\n",
    "        Q.append(round_complex(Q_k))\n",
    "        #Q.append(Q_k)\n",
    "\n",
    "P_polar = map(cmath.polar, P) \n",
    "for p in P_polar:\n",
    "    print(p)\n",
    "print('P:', P)\n",
    "\n",
    "Q_polar = map(cmath.polar, Q) \n",
    "for q in Q_polar:\n",
    "    print(q)\n",
    "print('Q:', Q)"
   ]
  },
  {
   "cell_type": "code",
   "execution_count": 31,
   "id": "93113b5f",
   "metadata": {},
   "outputs": [],
   "source": [
    "#"
   ]
  }
 ],
 "metadata": {
  "kernelspec": {
   "display_name": "Python 3",
   "language": "python",
   "name": "python3"
  },
  "language_info": {
   "codemirror_mode": {
    "name": "ipython",
    "version": 3
   },
   "file_extension": ".py",
   "mimetype": "text/x-python",
   "name": "python",
   "nbconvert_exporter": "python",
   "pygments_lexer": "ipython3",
   "version": "3.8.5"
  }
 },
 "nbformat": 4,
 "nbformat_minor": 5
}
