{
 "cells": [
  {
   "cell_type": "code",
   "execution_count": 129,
   "id": "842d31ae",
   "metadata": {},
   "outputs": [],
   "source": [
    "import math\n",
    "import cmath\n",
    "\n",
    "def ler_arquivo(nome_arquivo):\n",
    "    \"\"\"\n",
    "    nome_arquivo: é uma String com o endereço/nome do arquivo.\n",
    "    matriz: é o arquivo lido e retornado em forma de matriz.\n",
    "    \"\"\"\n",
    "    matriz = []\n",
    "    with open(nome_arquivo, 'r') as arquivo:\n",
    "        for linha in arquivo:\n",
    "            linha = linha.strip('\\n')\n",
    "            cada_linha_do_arquivo = linha.split(' ')\n",
    "            matriz.append(cada_linha_do_arquivo)\n",
    "    return matriz.copy()\n",
    "\n",
    "\n",
    "def extrair_coluna_da_matriz(matriz, indice_da_coluna):\n",
    "    \"\"\" \n",
    "    matriz: é a matriz na qual se deseja retirar a coluna.\n",
    "    indice_da_coluna: é o indice que se refere à coluna.\n",
    "    \"\"\"\n",
    "    coluna = []\n",
    "    for i in range(len(matriz)):\n",
    "        elemento_da_coluna = matriz[i][indice_da_coluna]\n",
    "        coluna.append(elemento_da_coluna)\n",
    "    return coluna\n",
    "\n",
    "\n",
    "def numerizar_vetor_string(vetor, tipo=int):\n",
    "    \"\"\" \n",
    "    vetor: vetor cujos elementos são Strings\n",
    "    tipo: int ou float\n",
    "    vetor_numerizado: vetor mapeado para o tipo informado\n",
    "    \"\"\"\n",
    "    vetor_numerizado = []\n",
    "    vetor_numerizado = vetor.copy()\n",
    "    if tipo == int:\n",
    "        vetor_numerizado = map(tipo, vetor_numerizado)\n",
    "    else:\n",
    "        vetor_numerizado = map(tipo, vetor_numerizado)\n",
    "    return list(vetor_numerizado).copy()\n",
    "\n",
    "\n",
    "def contar_numero_de_elementos_unicos(vetor_a, vetor_b):\n",
    "    \"\"\" \n",
    "    vetor_a: vetor de única dimensão\n",
    "    vetor_b: vetor de única dimensão\n",
    "    quantidade_elementos_unicos: quantidade de elementos únicos em vetor_a e vetor_b\n",
    "    \"\"\"\n",
    "    vetor_a = vetor_a.copy()\n",
    "    vetor_b = vetor_b.copy()\n",
    "    quantidade_elementos_unicos = 0\n",
    "    for i in range(len(vetor_a)):\n",
    "        elemento = vetor_a.pop()\n",
    "        if (elemento not in vetor_a) and (elemento not in vetor_b):\n",
    "            quantidade_elementos_unicos += 1\n",
    "\n",
    "    for i in range(len(vetor_b)):\n",
    "        elemento = vetor_b.pop()\n",
    "        if (elemento not in vetor_a) and (elemento not in vetor_b):\n",
    "            quantidade_elementos_unicos += 1  \n",
    "\n",
    "    return quantidade_elementos_unicos\n",
    "\n",
    "\n",
    "def cria_matriz_vazia_mxn(M, N):\n",
    "    \"\"\"\n",
    "    M: número de linhas\n",
    "    N: número de colunas\n",
    "    matriz: matriz vazia MxN\n",
    "    \"\"\"\n",
    "    matriz = []\n",
    "    for i in range(M):\n",
    "        matrizAux = []\n",
    "        for j in range(N):  \n",
    "           matrizAux.append(0)\n",
    "        matriz.append(matrizAux)\n",
    "    return matriz\n",
    "\n",
    "\n",
    "def vizinhos_da_barra(barra):\n",
    "    vizinhos = []\n",
    "    for i in range(n_barras):\n",
    "        if vetor_de[i] == barra:\n",
    "            vizinhos.append(vetor_para[i])\n",
    "        if vetor_para[i] == barra:\n",
    "            vizinhos.append(vetor_de[i])\n",
    "    return vizinhos\n",
    "\n",
    "def round_complex(x):\n",
    "    return complex(round(x.real, NUMERO_CASAS_DECIMAIS),round(x.imag, NUMERO_CASAS_DECIMAIS))"
   ]
  },
  {
   "cell_type": "markdown",
   "id": "8a3ba53b",
   "metadata": {},
   "source": [
    "# Configurações\n",
    "\n",
    "Aqui se indcam quais devem ser os arquivos deLinha e deBarra que devem ser lidos. Além de outras coisas."
   ]
  },
  {
   "cell_type": "code",
   "execution_count": 130,
   "id": "b2d28e3b",
   "metadata": {},
   "outputs": [],
   "source": [
    "ARQUIVO_DELINHA = 'deLinha_2.txt'\n",
    "ARQUIVO_DEBARRA = 'deBarra.txt'\n",
    "NUMERO_CASAS_DECIMAIS = 3"
   ]
  },
  {
   "cell_type": "markdown",
   "id": "70ecd56b",
   "metadata": {},
   "source": [
    "# Ler arquivos\n",
    "\n",
    "Os arquivos são lidos e quardados em suas respectivas matrizes"
   ]
  },
  {
   "cell_type": "code",
   "execution_count": 131,
   "id": "37cab287",
   "metadata": {},
   "outputs": [],
   "source": [
    "matriz_dados_de_linha = []\n",
    "matriz_dados_de_barra = []\n",
    "matriz_dados_de_barra = ler_arquivo(ARQUIVO_DEBARRA)\n",
    "matriz_dados_de_linha = ler_arquivo(ARQUIVO_DELINHA)"
   ]
  },
  {
   "cell_type": "markdown",
   "id": "e12d216e",
   "metadata": {},
   "source": [
    "# Extrair colunas da matriz de linha e matriz de barra\n",
    "\n",
    "Em posse das matrizes lidas anteriormente, aqui se extrai em vetores as colunas DE, PARA, RPU, XPU e BshPu, Pesp e Qesp. \n",
    "\n",
    "Cada coluna agora é seu próprio vetor."
   ]
  },
  {
   "cell_type": "code",
   "execution_count": 132,
   "id": "cac811f3",
   "metadata": {},
   "outputs": [
    {
     "name": "stdout",
     "output_type": "stream",
     "text": [
      "VETOR_DE:     [1, 1, 2]\n",
      "VETOR_PARA:   [2, 3, 3]\n",
      "VETOR_R_PU:   [0.1, 0.2, 0.1]\n",
      "VETOR_X_PU:   [1.0, 2.0, 1.0]\n",
      "VETOR_Bsh_PU: [0.1, 0.2, 0.1]\n",
      "VETOR_P_esperado: [0.0, 40.0, 25.0, 40.0, 50.0]\n",
      "VETOR_Q_esperado: [0.0, 20.0, 15.0, 20.0, 20.0]\n"
     ]
    }
   ],
   "source": [
    "vetor_de = extrair_coluna_da_matriz(matriz_dados_de_linha, 0)\n",
    "vetor_de = numerizar_vetor_string(vetor_de)\n",
    "print('VETOR_DE:    ', vetor_de)\n",
    "\n",
    "# vetor_para\n",
    "vetor_para = extrair_coluna_da_matriz(matriz_dados_de_linha, 1)\n",
    "vetor_para = numerizar_vetor_string(vetor_para)\n",
    "print('VETOR_PARA:  ', vetor_para)\n",
    "\n",
    "# vetor_rpu\n",
    "vetor_rpu = extrair_coluna_da_matriz(matriz_dados_de_linha, 2)\n",
    "vetor_rpu = numerizar_vetor_string(vetor_rpu, float)\n",
    "print('VETOR_R_PU:  ', vetor_rpu)\n",
    "\n",
    "# vetor_xpu\n",
    "vetor_xpu = extrair_coluna_da_matriz(matriz_dados_de_linha, 3)\n",
    "vetor_xpu = numerizar_vetor_string(vetor_xpu, float)\n",
    "print('VETOR_X_PU:  ', vetor_xpu)\n",
    "\n",
    "# vetor_bshpu\n",
    "vetor_bshpu = extrair_coluna_da_matriz(matriz_dados_de_linha, 4)\n",
    "vetor_bshpu = numerizar_vetor_string(vetor_bshpu, float)\n",
    "print('VETOR_Bsh_PU:', vetor_bshpu)\n",
    "\n",
    "# vetor_P_esperado\n",
    "vetor_P_esperado = extrair_coluna_da_matriz(matriz_dados_de_barra, 1)\n",
    "vetor_P_esperado = numerizar_vetor_string(vetor_P_esperado, float)\n",
    "print('VETOR_P_esperado:', vetor_P_esperado)\n",
    "\n",
    "# vetor_Q_esperado\n",
    "### TODO: CONVERTER PARA COMPLEX O VETOR Q_ESPERADO\n",
    "vetor_Q_esperado = extrair_coluna_da_matriz(matriz_dados_de_barra, 2)\n",
    "vetor_Q_esperado = numerizar_vetor_string(vetor_Q_esperado, float)\n",
    "print('VETOR_Q_esperado:', vetor_Q_esperado)\n"
   ]
  },
  {
   "cell_type": "markdown",
   "id": "4b473082",
   "metadata": {},
   "source": [
    "# A matriz Y\n",
    "\n",
    "Para simplificar o problema, a matriz Y sera divida em duas parcelas: a matriz G e a matriz B.\n",
    "\n",
    "### Inicializar as matrizes G e B\n",
    "\n",
    "As matrizes G e B são criadas com as dimensões apropriadas e todas suas posições inicializadas em zero.\n",
    "A sua dimensão (MxN) é: M = N = NB\n",
    "\n",
    "Onde o NB (número de barras) é o número de elementos únicos contidos nas colunas DE e PARA. \"Número de elementos únicos\" é a quantidade de barras únicas, ou seja, o número total de barras no sistema. Portanto, se varre os vetores vetor_DE e vetor_PARA, contando o número de elementos únicos."
   ]
  },
  {
   "cell_type": "code",
   "execution_count": 133,
   "id": "be56b44c",
   "metadata": {},
   "outputs": [
    {
     "name": "stdout",
     "output_type": "stream",
     "text": [
      "N_BARRAS: 3\n",
      "MATRIZ_G: [[0, 0, 0], [0, 0, 0], [0, 0, 0]]\n",
      "MATRIZ_B: [[0, 0, 0], [0, 0, 0], [0, 0, 0]]\n"
     ]
    }
   ],
   "source": [
    "n_barras = contar_numero_de_elementos_unicos(vetor_de, vetor_para)\n",
    "print('N_BARRAS:', n_barras)\n",
    "matriz_G = cria_matriz_vazia_mxn(n_barras, n_barras)\n",
    "matriz_B = cria_matriz_vazia_mxn(n_barras, n_barras)\n",
    "print('MATRIZ_G:', matriz_G)\n",
    "print('MATRIZ_B:', matriz_B)"
   ]
  },
  {
   "cell_type": "markdown",
   "id": "af40ef20",
   "metadata": {},
   "source": [
    "### Inserir os elementos fora da diagonal nas Matrizes G e B \n",
    "\n",
    "Os elementos fora da diagonal são inseridos de acordo com a equação abaixo."
   ]
  },
  {
   "cell_type": "markdown",
   "id": "0392e927",
   "metadata": {},
   "source": [
    "$ Y_{km} = -y_{km}$"
   ]
  },
  {
   "cell_type": "markdown",
   "id": "858ac2ec",
   "metadata": {},
   "source": [
    "No código abaixo, k e m é um par de barras vizinhas (k, m). Por exemplo, (1, 2), onde 1 e 2 estão contidos, na mesma posição (0, 0, por exemplo), nos vetores vetor_de e vetor_para. \n",
    "\n",
    "Contador é necessário, pois vetor_rpu, vetor_xpu são vetores de apenas uma linha (1xNB). Assim, para o primeiro par é resgatado os valores corretos de r_pu e x_pu.\n",
    "\n",
    "Exemplo: \n",
    "vetor_de   = \\[1, 2, 3\\]\n",
    "\n",
    "vetor_para = \\[2, 3, 1\\]\n",
    "\n",
    "r_pu       = \\[0.5, 0.6, 0.7\\]\n",
    "\n",
    "Na primeira iteração, será carregado o par (1, 2) e contador resgatará o valor 0.5 (a resistência entre essas duas barras).\n",
    "\n",
    "Na segunda iteração, será carregado o par (2, 3) e contador resgatará o valor 0.6.\n",
    "\n",
    "Esse paradigma se repete ao longo do código.\n"
   ]
  },
  {
   "cell_type": "code",
   "execution_count": 134,
   "id": "07572403",
   "metadata": {},
   "outputs": [
    {
     "name": "stdout",
     "output_type": "stream",
     "text": [
      "MATRIZ_G [[0, -10.0, -5.0], [-10.0, 0, -10.0], [-5.0, -10.0, 0]]\n",
      "MATRIZ_B [[0, -1j, -0.5j], [-1j, 0, -1j], [-0.5j, -1j, 0]]\n"
     ]
    }
   ],
   "source": [
    "for k, m, contador in zip(vetor_de, vetor_para, range(n_barras)):\n",
    "    # contador acompanha as posições, mas não os valores de k e m, para pode alocar \n",
    "    # corretamente os valores do vetor r_pu\n",
    "    # -1 porque listas vão de 0 até n-1\n",
    "    \n",
    "    # MATRIZ G\n",
    "    matriz_G[k-1][m-1] = round(-1 / vetor_rpu[contador], NUMERO_CASAS_DECIMAIS)\n",
    "    matriz_G[m-1][k-1] = round(-1 / vetor_rpu[contador], NUMERO_CASAS_DECIMAIS)\n",
    "\n",
    "    # MATRIZ_B\n",
    "    matriz_B[k-1][m-1] = complex(0, round(-1 / vetor_xpu[contador], NUMERO_CASAS_DECIMAIS))\n",
    "    matriz_B[m-1][k-1] = complex(0, round(-1 / vetor_xpu[contador], NUMERO_CASAS_DECIMAIS))\n",
    "    \n",
    "print('MATRIZ_G', matriz_G)\n",
    "print('MATRIZ_B', matriz_B)"
   ]
  },
  {
   "cell_type": "markdown",
   "id": "9d23fc95",
   "metadata": {},
   "source": [
    "### Inserir os elementos da diagonal nas Matrizes G e B\n",
    "\n",
    "$ Y_{kk} = \\sum_{m \\in \\Omega k}(y_{km} + j\\frac{b_{km}^{sh}}{2})$ \n",
    "\n",
    "tal que, \n",
    "\n",
    "$ \\Omega_k $ é todas as barras vizinhas."
   ]
  },
  {
   "cell_type": "code",
   "execution_count": 135,
   "id": "5232cc64",
   "metadata": {},
   "outputs": [],
   "source": [
    "for k in range(1, n_barras + 1):\n",
    "    indice = 0\n",
    "    for de, para in zip(vetor_de, vetor_para):\n",
    "        indice += 1\n",
    "        if k == de or k == para:\n",
    "            #TODO: pq esse elemento diagonal não esta sendo arredondado?\n",
    "            matriz_G_kesimo_elemento = round(1 / vetor_rpu[indice-1], NUMERO_CASAS_DECIMAIS)\n",
    "            matriz_G[k-1][k-1] += matriz_G_kesimo_elemento\n",
    "            \n",
    "            #matriz_B[k-1][k-1] += complex(0, round(1 / vetor_xpu[contador], NUMERO_CASAS_DECIMAIS))\n",
    "            \n",
    "            matriz_B[k-1][k-1] += round_complex(complex(0, 1 / vetor_xpu[indice-1]))\n",
    "            \n",
    "            #matriz_B[k-1][k-1] += complex(0, round(((1 / vetor_bshpu[contador]) / 2), NUMERO_CASAS_DECIMAIS))\n",
    "            \n",
    "            matriz_B[k-1][k-1] += round_complex(complex(0, ((1 / vetor_bshpu[indice-1]) / 2)))\n",
    "       #if k == para:\n",
    "            #atriz_G[k-1][k-1] += round(1 / vetor_rpu[indice-1], NUMERO_CASAS_DECIMAIS)\n",
    "            \n",
    "           #matriz_B[k-1][k-1] += complex(0, round(1 / vetor_xpu[indice-1], NUMERO_CASAS_DECIMAIS))\n",
    "            #atriz_B[k-1][k-1] += complex(0, round(((1 / vetor_bshpu[indice-1]) / 2), NUMERO_CASAS_DECIMAIS))\n",
    "            \n",
    "            #matriz_B[k-1][k-1] += round_complex(complex(0, 1 / vetor_xpu[contador]))\n",
    "            #matriz_B[k-1][k-1] += round_complex(complex(0, (1 / (vetor_bshpu[contador] / 2))))\n",
    "\n",
    "#for k, m, contador in zip(vetor_de, vator_para, range(n_barras)):\n",
    "\n",
    "#for k in range(n_barras):\n",
    "#    # Matriz G\n",
    "#    matriz_G_kesimo_elemento = round(1 / vetor_rpu[k], NUMERO_CASAS_DECIMAIS)\n",
    "#    matriz_G[k-1][k-1] += matriz_G_kesimo_elemento\n",
    "#\n",
    "#    # Matriz B\n",
    "#    matriz_B[k-1][k-1] += round_complex(complex(0, ((1 / vetor_bshpu[k]) / 2)))\n",
    "#    matriz_B[k-1][k-1] += round_complex(complex(0, ((1 / vetor_bshpu[k]) / 2)))"
   ]
  },
  {
   "cell_type": "code",
   "execution_count": 136,
   "id": "f2740135",
   "metadata": {},
   "outputs": [
    {
     "name": "stdout",
     "output_type": "stream",
     "text": [
      "MATRIZ_G: [[15.0, -10.0, -5.0], [-10.0, 20.0, -10.0], [-5.0, -10.0, 15.0]]\n",
      "\n",
      "MATRIZ_B: [[9j, -1j, -0.5j], [-1j, 12j, -1j], [-0.5j, -1j, 9j]]\n"
     ]
    }
   ],
   "source": [
    "print('MATRIZ_G:', matriz_G)\n",
    "print()\n",
    "print('MATRIZ_B:', matriz_B)\n",
    "\n",
    "\n",
    "#MATRIZ_G: [[73.333, -20.0, -20.0, 0, -33.333], [-20.0, 70.0, -25.0, 0, -25.0], [-20.0, -25.0, 61.667, 0, 0], [0, 0, 0, 41.667, 0], [-33.333, -25.0, 0, 0, 83.333]]\n",
    "\n",
    "#MATRIZ_B: [[105.682j, -9.091j, -9.091j, 0, -12.5j], [-9.091j, 106.313j, -11.111j, 0, -11.111j], [-9.091j, -11.111j, 94.561j, 0, 0], [0, 0, 0, 60.47j, 0], [-12.5j, -11.111j, 0, 0, 109.72200000000001j]]"
   ]
  },
  {
   "cell_type": "markdown",
   "id": "ce17f3ac",
   "metadata": {},
   "source": [
    "# Calcular as potências\n",
    "\n",
    "$ P_k = V_k \\sum_{m \\in \\kappa}V_m (G_{km} cos \\theta_{km} + B_{km} sin \\theta_{km}) $ \n",
    "\n",
    "$ Q_k = V_k \\sum_{m \\in \\kappa}V_m (G_{km} sin \\theta_{km} - B_{km} cos \\theta_{km}) $ \n",
    "\n",
    "tal que,\n",
    "\n",
    "$ \\kappa $ é todas as barras vizinha e a própria barra."
   ]
  },
  {
   "cell_type": "markdown",
   "id": "70e2362a",
   "metadata": {},
   "source": [
    "Seja o vetor V_k inicializado com flat-start"
   ]
  },
  {
   "cell_type": "code",
   "execution_count": 137,
   "id": "68d07ec7",
   "metadata": {},
   "outputs": [
    {
     "name": "stdout",
     "output_type": "stream",
     "text": [
      "Flat-start\n",
      "V: [(1+0j), (1+0j), (1+0j)]\n"
     ]
    }
   ],
   "source": [
    "V = []\n",
    "P = []\n",
    "Q = []\n",
    "\n",
    "V_k = complex(1, 0)\n",
    "P_k = 0\n",
    "Q_k = 0\n",
    "\n",
    "for i in range(n_barras):\n",
    "    V.append(V_k)\n",
    "    P.append(P_k)\n",
    "    Q.append(Q_k)\n",
    "\n",
    "print('Flat-start')\n",
    "print('V:', V)"
   ]
  },
  {
   "cell_type": "code",
   "execution_count": 138,
   "id": "f37299fe",
   "metadata": {
    "scrolled": true
   },
   "outputs": [
    {
     "name": "stdout",
     "output_type": "stream",
     "text": [
      "P: [(70+0j), (90+0j), (65+0j)]\n",
      "Q: [-29.5j, -39j, -29j]\n"
     ]
    }
   ],
   "source": [
    "for k in range(1, n_barras + 1): # k é o número das barras (k = 1, barra = 1, ...)\n",
    "    barras_vizinhas = vizinhos_da_barra(k) \n",
    "    kappa = barras_vizinhas.copy() # Kappa é uma lista de todas as barras vizinhas mais a própria barra\n",
    "    kappa.insert(0, k)\n",
    "        \n",
    "    P_k = 0\n",
    "    Q_k = 0\n",
    "    \n",
    "    for m in kappa:\n",
    "        # IMPORTANTE: deve-se subtrair 1 quando tentar acessar\n",
    "        # as matrizes G e B, pois as barras são numeradas de 1 ... NB,\n",
    "        # mas as posições das matrizes são numera das de 0 ... NB-1\n",
    "        ### Issue: Da forma como aqui está escrito theta_k e theta_m serão sempre iguais\n",
    "        ### Solved!\n",
    "        \n",
    "        theta_k = cmath.phase(matriz_G[k-1][k-1])\n",
    "        theta_m = cmath.phase(matriz_G[k-1][m-1])\n",
    "        theta_k_m = theta_k - theta_m\n",
    "        \n",
    "        P_k += V[k-1] * (V[m-1] * matriz_G[k-1][m-1] * math.cos(theta_k_m) + matriz_B[k-1][m-1] * math.sin(theta_k_m))        \n",
    "        P_k = round_complex(P_k)\n",
    "        P[k-1] += P_k\n",
    "        #print(f'inserindo na posição {k}, o elemento {P_k}')\n",
    "        #print(f'P{k} = V{k} * V{m} * G{k}{m} * cos(theta{k}{m}) + B{k}{m} * sin(theta{k}{m})')\n",
    "\n",
    "        Q_k += V[m-1] * matriz_G[k-1][m-1] * math.sin(theta_k_m) - matriz_B[k-1][m-1] * math.cos(theta_k_m)\n",
    "        Q_k = round_complex(Q_k)\n",
    "        Q[k-1] += Q_k\n",
    "        #print(f'Q{k} = V{k} * V{m} * G{k}{m} * sin(theta{k}{m}) - B{k}{m} * cos(theta{k}{m})')\n",
    "\n",
    "print('P:', P)\n",
    "print('Q:', Q)\n"
   ]
  },
  {
   "cell_type": "markdown",
   "id": "cfbd5611",
   "metadata": {},
   "source": [
    "### Vetor mismatch"
   ]
  },
  {
   "cell_type": "code",
   "execution_count": 139,
   "id": "93113b5f",
   "metadata": {},
   "outputs": [
    {
     "name": "stdout",
     "output_type": "stream",
     "text": [
      "VETOR_P_MISMATCH: [(-70+0j), (-50+0j), (-40+0j)]\n",
      "VETOR_Q_MISMATCH: [29.5j, 59j, 44j]\n"
     ]
    }
   ],
   "source": [
    "vetor_p_mismatch = []\n",
    "vetor_q_mismatch = []\n",
    "for p_esperado, p_calculado in zip(vetor_P_esperado, P):\n",
    "    vetor_p_mismatch.append(round_complex(p_esperado - p_calculado))\n",
    "\n",
    "for q_esperado, q_calculado in zip(vetor_Q_esperado, Q):\n",
    "    q_esperado = complex(0, q_esperado)\n",
    "    vetor_q_mismatch.append(round_complex(q_esperado - q_calculado))\n",
    "\n",
    "print('VETOR_P_MISMATCH:', vetor_p_mismatch)\n",
    "print('VETOR_Q_MISMATCH:', vetor_q_mismatch)"
   ]
  },
  {
   "cell_type": "markdown",
   "id": "391237f7",
   "metadata": {},
   "source": [
    "# Newton Raphson\n",
    "## As matrizes H, M, N e L:\n",
    "\n",
    "$ H = \\frac{\\partial(P)}{\\partial \\theta} $\n",
    "\n",
    "$ N = \\frac{\\partial(P)}{\\partial V} $\n",
    "\n",
    "$ M = \\frac{\\partial(Q)}{\\partial \\theta} $\n",
    "\n",
    "$ L = \\frac{\\partial(P)}{\\partial V} $"
   ]
  },
  {
   "cell_type": "markdown",
   "id": "70017bb6",
   "metadata": {},
   "source": [
    "## Os elementos diagonais:\n",
    "\n",
    "Aqui se insere os elementos diagonais das matrizes H, N, M e L, de acordo com as seguintes equações:\n",
    "\n",
    "$ H_{kk} = -B_{kk} V_k^2 - Q_k $\n",
    "\n",
    "$ N_{kk} = \\frac{1}{V_k} (P_k + G_{kk} V_k^2) $\n",
    "\n",
    "$ M_{kk} = -G_{kk} V_k^2 + P_k$ \n",
    "\n",
    "$ L_{kk} = \\frac{1}{V_k} (Q_k - B_{kk}V_k^2) $\n",
    "\n",
    "No programa, k é um contador que vai de 1 até número de barras. Assim, ele varre todas as barras: 1, 2, $\\ldots$, NB. Este contador é usado para acessar as posições dos vetores V, P e Q e também as posições das matrizes G e B. \n",
    "\n",
    "É importante lembrar que deste contador é subtraído 1, pois as barras são numeras de 1 até NB, enquanto as posições dos vetores vão de 0 até NB-1.\n",
    "\n",
    "Para simplificar o problema e aumentar a eficiência do programa, se calcula as parcelas ou os fatores que são comuns nas equações acima: $P_k$, $Q_k$, $V_k^2$, $B_{kk}$ e $G_{kk}$. E depois, utilizando se das parcelas ou fatores, se computa os elementos diagonais. Por fim, os elementos são inseridos nas posições diagonais."
   ]
  },
  {
   "cell_type": "code",
   "execution_count": 140,
   "id": "65d79934",
   "metadata": {},
   "outputs": [
    {
     "name": "stdout",
     "output_type": "stream",
     "text": [
      "Os elementos diagonais das matrizes H, N, M, L \n",
      "\n",
      "MATRIZ_H: [[20.5j, 0, 0], [0, 27j, 0], [0, 0, 20j]]\n",
      "MATRIZ_N: [[(86+0j), 0, 0], [0, (111+0j), 0], [0, 0, (81+0j)]]\n",
      "MATRIZ_M: [[(55+0j), 0, 0], [0, (70+0j), 0], [0, 0, (50+0j)]]\n",
      "MATRIZ_L: [[-38.5j, 0, 0], [0, -51j, 0], [0, 0, -38j]]\n"
     ]
    }
   ],
   "source": [
    "M, N = n_barras, n_barras\n",
    "matriz_H = cria_matriz_vazia_mxn(M, N)\n",
    "matriz_N = cria_matriz_vazia_mxn(M, N)\n",
    "matriz_M = cria_matriz_vazia_mxn(M, N)\n",
    "matriz_L = cria_matriz_vazia_mxn(M, N)\n",
    "\n",
    "for k in range(1, n_barras + 1):\n",
    "    elemento_Hkk = 0\n",
    "    elemento_Nkk = 0\n",
    "    elemento_Mkk = 0\n",
    "    elemento_Lkk = 0\n",
    "    \n",
    "    P_k = P[k-1]\n",
    "    Q_k = Q[k-1]\n",
    "    V_k_quadrado = V[k-1] * V[k-1]\n",
    "    B_kk = matriz_B[k-1][k-1]\n",
    "    G_kk = matriz_G[k-1][k-1]\n",
    "    \n",
    "    elemento_Hkk = (-B_kk * V_k_quadrado) - Q_k\n",
    "    elemento_Nkk = (1/V_k) * (P_k + G_kk + V_k_quadrado)\n",
    "    elemento_Mkk = -G_kk * V_k_quadrado + P_k\n",
    "    elemento_Lkk = (1/V_k) * (Q_k - B_kk * V_k_quadrado)\n",
    "    \n",
    "    matriz_H[k-1][k-1] = elemento_Hkk\n",
    "    matriz_N[k-1][k-1] = elemento_Nkk\n",
    "    matriz_M[k-1][k-1] = elemento_Mkk\n",
    "    matriz_L[k-1][k-1] = elemento_Lkk\n",
    "\n",
    "print('Os elementos diagonais das matrizes H, N, M, L \\n')\n",
    "print('MATRIZ_H:', matriz_H)\n",
    "print('MATRIZ_N:', matriz_N)\n",
    "print('MATRIZ_M:', matriz_M)\n",
    "print('MATRIZ_L:', matriz_L)"
   ]
  },
  {
   "cell_type": "markdown",
   "id": "4eabdb79",
   "metadata": {},
   "source": [
    "## Os elementos fora das diagonais\n",
    "\n",
    "Os elementos fora da diagonal são constituídos por meio das seguintes equações:\n",
    "\n",
    "#### Da matriz H:\n",
    "$ H_{km} = V_k V_m (G_{km} sin \\theta_{km} - B_{km} cos \\theta_{km}) $\n",
    "\n",
    "$ H_{mk} = -V_k V_m (G_{km} sin \\theta_{km} + B_{km} cos \\theta_{km}) $\n",
    "\n",
    "#### Da matriz N:\n",
    "$ N_{km} = V_k (G_{km} cos \\theta_{km} + B_{km} sin \\theta_{km}) $\n",
    "\n",
    "$ N_{mk} = V_m (G_{km} cos \\theta_{km} - B_{km} sin \\theta_{km}) $\n",
    "\n",
    "#### Da matriz M:\n",
    "$ M_{km} = -V_k V_m (G_{km} cos \\theta_{km} + B_{km} sin \\theta_{km}) $ \n",
    "\n",
    "$ M_{mk} = -V_k V_m (G_{km} cos \\theta_{km} - B_{km} sin \\theta_{km}) $\n",
    "\n",
    "#### Da matriz L:\n",
    "$ L_{km} = V_k (G_{km} sen \\theta_{km} - B_{km} cos \\theta_{km}) $\n",
    "\n",
    "$ L_{mk} = -V_k (G_{km} sen \\theta_{km} + B_{km} cos \\theta_{km}) $\n",
    "\n",
    "Novamente, para simplificar e aumentar a eficiência, se identifica os termos ou parcelas que são semelhantes para muitas equações. Esses termos são computados e depois utilizados para compor as equações.\n",
    "\n"
   ]
  },
  {
   "cell_type": "code",
   "execution_count": 141,
   "id": "1bc40528",
   "metadata": {},
   "outputs": [
    {
     "name": "stdout",
     "output_type": "stream",
     "text": [
      "MATRIZ_H [[20.5j, -1j, (-0+12j)], [(-0-1j), 27j, (-0+9j)], [12j, 9j, 20j]] \n",
      "\n",
      "MATRIZ_N [[(86+0j), (10+0j), (-20-0j)], [(10-0j), (111+0j), (-15-0j)], [(-20+0j), (-15+0j), (81+0j)]] \n",
      "\n",
      "MATRIZ_M [[(55+0j), (-10-0j), (20+0j)], [(-10+0j), (70+0j), (15+0j)], [(20-0j), (15-0j), (50+0j)]] \n",
      "\n",
      "MATRIZ_L [[-38.5j, -1j, (-0+12j)], [(-0-1j), -51j, (-0+9j)], [12j, 9j, -38j]] \n",
      "\n"
     ]
    }
   ],
   "source": [
    "# A ideia do contador é que ele guarde para cada par (K, M), qual é a posição deste par.\n",
    "# E assim, ele pode resgar os valores de V e Q corretos.\n",
    "# Exemplo: vetor_de   = [1,   2,   3]\n",
    "#          vetor_para = [2,   3,   1]\n",
    "#          V          = [10, 15,  20]\n",
    "# para o par de = 1 e para = 2, contador aponta para V = 10\n",
    "# para o par de = 2 e para = 3, contador para para V = 15 \n",
    "# etc.\n",
    "for k, m, contador in zip(vetor_de, vetor_para, range(n_barras)): # 0 até nb-1\n",
    "    V_k, V_m, G_km, B_km  = 0, 0, 0, 0\n",
    "\n",
    "    V_k = V[contador]\n",
    "    V_m = V[contador]\n",
    "    G_km = matriz_G[k][contador]\n",
    "    B_km = matriz_B[k][contador]\n",
    "\n",
    "    theta_k = cmath.phase(matriz_G[k-1][k-1])\n",
    "    theta_m = cmath.phase(matriz_G[k-1][m-1])\n",
    "    theta_km = theta_k - theta_m\n",
    "\n",
    "    elemento_Hkm = round_complex(V_k * V_m * (G_km * math.sin(theta_km) - B_km * math.cos(theta_km)))\n",
    "    elemento_Hmk = round_complex(-V_k * V_m * (G_km * math.sin(theta_km) + B_km * math.cos(theta_km)))\n",
    "    matriz_H[k-1][m-1] = elemento_Hkm\n",
    "    matriz_H[m-1][k-1] = elemento_Hmk\n",
    "\n",
    "    elemento_Nkm = round_complex(V_k * (G_km * math.cos(theta_km) + B_km * math.sin(theta_km)))\n",
    "    elemento_Nmk = round_complex(V_m * (G_km * math.cos(theta_km) - B_km * math.sin(theta_km)))\n",
    "    matriz_N[k-1][m-1] = elemento_Nkm\n",
    "    matriz_N[m-1][k-1] = elemento_Nmk\n",
    "\n",
    "    elemento_Mkm = round_complex(-V_k * V_m * (G_km * math.cos(theta_km) + B_km * math.sin(theta_km)))\n",
    "    elemento_Mmk = round_complex(-V_k * V_m * (G_km * math.cos(theta_km) - B_km * math.sin(theta_km)))\n",
    "    matriz_M[k-1][m-1] = elemento_Mkm\n",
    "    matriz_M[m-1][k-1] = elemento_Mmk\n",
    "\n",
    "    elemento_Lkm = round_complex(V_k * (G_km * math.sin(theta_km) - B_km * math.cos(theta_km)))\n",
    "    elemento_Lmk = round_complex(-V_k * (G_km * math.sin(theta_km) + B_km * math.cos(theta_km)))\n",
    "    matriz_L[k-1][m-1] = elemento_Lkm\n",
    "    matriz_L[m-1][k-1] = elemento_Lmk\n",
    "    \n",
    "print('MATRIZ_H', matriz_H, '\\n')\n",
    "print('MATRIZ_N', matriz_N, '\\n')\n",
    "print('MATRIZ_M', matriz_M, '\\n')\n",
    "print('MATRIZ_L', matriz_L, '\\n')"
   ]
  }
 ],
 "metadata": {
  "kernelspec": {
   "display_name": "Python 3",
   "language": "python",
   "name": "python3"
  },
  "language_info": {
   "codemirror_mode": {
    "name": "ipython",
    "version": 3
   },
   "file_extension": ".py",
   "mimetype": "text/x-python",
   "name": "python",
   "nbconvert_exporter": "python",
   "pygments_lexer": "ipython3",
   "version": "3.8.5"
  }
 },
 "nbformat": 4,
 "nbformat_minor": 5
}
