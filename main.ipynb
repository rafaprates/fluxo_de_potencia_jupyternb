{
 "cells": [
  {
   "cell_type": "code",
   "execution_count": 142,
   "id": "842d31ae",
   "metadata": {},
   "outputs": [],
   "source": [
    "import math\n",
    "import cmath\n",
    "\n",
    "def ler_arquivo(nome_arquivo):\n",
    "    \"\"\"\n",
    "    nome_arquivo: é uma String com o endereço/nome do arquivo.\n",
    "    matriz: é o arquivo lido e retornado em forma de matriz.\n",
    "    \"\"\"\n",
    "    matriz = []\n",
    "    with open(nome_arquivo, 'r') as arquivo:\n",
    "        for linha in arquivo:\n",
    "            linha = linha.strip('\\n')\n",
    "            cada_linha_do_arquivo = linha.split(' ')\n",
    "            matriz.append(cada_linha_do_arquivo)\n",
    "    return matriz.copy()\n",
    "\n",
    "\n",
    "def extrair_coluna_da_matriz(matriz, indice_da_coluna):\n",
    "    \"\"\" \n",
    "    matriz: é a matriz na qual se deseja retirar a coluna.\n",
    "    indice_da_coluna: é o indice que se refere à coluna.\n",
    "    \"\"\"\n",
    "    coluna = []\n",
    "    for i in range(len(matriz)):\n",
    "        elemento_da_coluna = matriz[i][indice_da_coluna]\n",
    "        coluna.append(elemento_da_coluna)\n",
    "    return coluna\n",
    "\n",
    "\n",
    "def numerizar_vetor_string(vetor, tipo=int):\n",
    "    \"\"\" \n",
    "    vetor: vetor cujos elementos são Strings\n",
    "    tipo: int ou float\n",
    "    vetor_numerizado: vetor mapeado para o tipo informado\n",
    "    \"\"\"\n",
    "    vetor_numerizado = []\n",
    "    vetor_numerizado = vetor.copy()\n",
    "    if tipo == int:\n",
    "        vetor_numerizado = map(tipo, vetor_numerizado)\n",
    "    else:\n",
    "        vetor_numerizado = map(tipo, vetor_numerizado)\n",
    "    return list(vetor_numerizado).copy()\n",
    "\n",
    "\n",
    "def contar_numero_de_elementos_unicos(vetor_a, vetor_b):\n",
    "    \"\"\" \n",
    "    vetor_a: vetor de única dimensão\n",
    "    vetor_b: vetor de única dimensão\n",
    "    quantidade_elementos_unicos: quantidade de elementos únicos em vetor_a e vetor_b\n",
    "    \"\"\"\n",
    "    vetor_a = vetor_a.copy()\n",
    "    vetor_b = vetor_b.copy()\n",
    "    quantidade_elementos_unicos = 0\n",
    "    for i in range(len(vetor_a)):\n",
    "        elemento = vetor_a.pop()\n",
    "        if (elemento not in vetor_a) and (elemento not in vetor_b):\n",
    "            quantidade_elementos_unicos += 1\n",
    "\n",
    "    for i in range(len(vetor_b)):\n",
    "        elemento = vetor_b.pop()\n",
    "        if (elemento not in vetor_a) and (elemento not in vetor_b):\n",
    "            quantidade_elementos_unicos += 1  \n",
    "\n",
    "    return quantidade_elementos_unicos\n",
    "\n",
    "\n",
    "def cria_matriz_vazia_mxn(M, N):\n",
    "    \"\"\"\n",
    "    M: número de linhas\n",
    "    N: número de colunas\n",
    "    matriz: matriz vazia MxN\n",
    "    \"\"\"\n",
    "    matriz = []\n",
    "    for i in range(M):\n",
    "        matrizAux = []\n",
    "        for j in range(N):  \n",
    "           matrizAux.append(0)\n",
    "        matriz.append(matrizAux)\n",
    "    return matriz\n",
    "\n",
    "\n",
    "def vizinhos_da_barra(barra):\n",
    "    vizinhos = []\n",
    "    for i in range(n_barras):\n",
    "        if vetor_de[i] == barra:\n",
    "            vizinhos.append(vetor_para[i])\n",
    "        if vetor_para[i] == barra:\n",
    "            vizinhos.append(vetor_de[i])\n",
    "    return vizinhos\n",
    "\n",
    "def round_complex(x):\n",
    "    return complex(round(x.real, NUMERO_CASAS_DECIMAIS),round(x.imag, NUMERO_CASAS_DECIMAIS))"
   ]
  },
  {
   "cell_type": "markdown",
   "id": "8a3ba53b",
   "metadata": {},
   "source": [
    "### Configurações"
   ]
  },
  {
   "cell_type": "code",
   "execution_count": 143,
   "id": "b2d28e3b",
   "metadata": {},
   "outputs": [],
   "source": [
    "ARQUIVO_DELINHA = 'deLinha.txt'\n",
    "ARQUIVO_DEBARRA = 'deBarra.txt'\n",
    "NUMERO_CASAS_DECIMAIS = 3"
   ]
  },
  {
   "cell_type": "markdown",
   "id": "70ecd56b",
   "metadata": {},
   "source": [
    "### Ler arquivos"
   ]
  },
  {
   "cell_type": "code",
   "execution_count": 144,
   "id": "37cab287",
   "metadata": {},
   "outputs": [
    {
     "name": "stdout",
     "output_type": "stream",
     "text": [
      "[['1', '0', '0', 'referencia'], ['2', '40', '20', 'carga'], ['3', '25', '15', 'carga'], ['4', '40', '20', 'carga'], ['5', '50', '20', 'carga']]\n"
     ]
    }
   ],
   "source": [
    "matriz_dados_de_linha = []\n",
    "matriz_dados_de_barra = []\n",
    "matriz_dados_de_barra = ler_arquivo(ARQUIVO_DEBARRA)\n",
    "matriz_dados_de_linha = ler_arquivo(ARQUIVO_DELINHA)\n",
    "print(matriz_dados_de_barra)"
   ]
  },
  {
   "cell_type": "markdown",
   "id": "e12d216e",
   "metadata": {},
   "source": [
    "### Extrair colunas da matriz de linha e matriz de barra\n",
    "\n",
    "Aqui se extrai em vetores as colunas DE, PARA, RPU, XPU e BshPu, Pesp e Qesp"
   ]
  },
  {
   "cell_type": "code",
   "execution_count": 156,
   "id": "cac811f3",
   "metadata": {},
   "outputs": [
    {
     "name": "stdout",
     "output_type": "stream",
     "text": [
      "VETOR_DE:     [1, 1, 1, 2, 2, 3, 4]\n",
      "VETOR_PARA:   [2, 3, 5, 3, 5, 4, 5]\n",
      "VETOR_R_PU:   [0.05, 0.05, 0.03, 0.04, 0.04, 0.06, 0.04]\n",
      "VETOR_X_PU:   [0.11, 0.11, 0.08, 0.09, 0.09, 0.13, 0.09]\n",
      "VETOR_Bsh_PU: [0.02, 0.02, 0.02, 0.02, 0.02, 0.03, 0.02]\n",
      "VETOR_P_esperado: [0.0, 40.0, 25.0, 40.0, 50.0]\n",
      "VETOR_Q_esperado: [0.0, 20.0, 15.0, 20.0, 20.0]\n"
     ]
    }
   ],
   "source": [
    "vetor_de = extrair_coluna_da_matriz(matriz_dados_de_linha, 0)\n",
    "vetor_de = numerizar_vetor_string(vetor_de)\n",
    "print('VETOR_DE:    ', vetor_de)\n",
    "\n",
    "# vetor_para\n",
    "vetor_para = extrair_coluna_da_matriz(matriz_dados_de_linha, 1)\n",
    "vetor_para = numerizar_vetor_string(vetor_para)\n",
    "print('VETOR_PARA:  ', vetor_para)\n",
    "\n",
    "# vetor_rpu\n",
    "vetor_rpu = extrair_coluna_da_matriz(matriz_dados_de_linha, 2)\n",
    "vetor_rpu = numerizar_vetor_string(vetor_rpu, float)\n",
    "print('VETOR_R_PU:  ', vetor_rpu)\n",
    "\n",
    "# vetor_xpu\n",
    "vetor_xpu = extrair_coluna_da_matriz(matriz_dados_de_linha, 3)\n",
    "vetor_xpu = numerizar_vetor_string(vetor_xpu, float)\n",
    "print('VETOR_X_PU:  ', vetor_xpu)\n",
    "\n",
    "# vetor_bshpu\n",
    "vetor_bshpu = extrair_coluna_da_matriz(matriz_dados_de_linha, 4)\n",
    "vetor_bshpu = numerizar_vetor_string(vetor_bshpu, float)\n",
    "print('VETOR_Bsh_PU:', vetor_bshpu)\n",
    "\n",
    "# vetor_P_esperado\n",
    "vetor_P_esperado = extrair_coluna_da_matriz(matriz_dados_de_barra, 1)\n",
    "vetor_P_esperado = numerizar_vetor_string(vetor_P_esperado, float)\n",
    "print('VETOR_P_esperado:', vetor_P_esperado)\n",
    "\n",
    "# vetor_Q_esperado\n",
    "### TODO: CONVERTER PARA COMPLEX O VETOR Q_ESPERADO\n",
    "vetor_Q_esperado = extrair_coluna_da_matriz(matriz_dados_de_barra, 2)\n",
    "vetor_Q_esperado = numerizar_vetor_string(vetor_Q_esperado, float)\n",
    "print('VETOR_Q_esperado:', vetor_Q_esperado)\n"
   ]
  },
  {
   "cell_type": "markdown",
   "id": "4b473082",
   "metadata": {},
   "source": [
    "### Criar uma matriz MxN vazia\n",
    "\n",
    "M = n = NB\n",
    "\n",
    "Onde o NB (número de barras) é o número de elementos únicos contidos nas colunas DE e PARA"
   ]
  },
  {
   "cell_type": "code",
   "execution_count": 146,
   "id": "be56b44c",
   "metadata": {},
   "outputs": [
    {
     "name": "stdout",
     "output_type": "stream",
     "text": [
      "N_BARRAS: 5\n",
      "MATRIZ_G: [[0, 0, 0, 0, 0], [0, 0, 0, 0, 0], [0, 0, 0, 0, 0], [0, 0, 0, 0, 0], [0, 0, 0, 0, 0]]\n",
      "MATRIZ_B: [[0, 0, 0, 0, 0], [0, 0, 0, 0, 0], [0, 0, 0, 0, 0], [0, 0, 0, 0, 0], [0, 0, 0, 0, 0]]\n"
     ]
    }
   ],
   "source": [
    "n_barras = contar_numero_de_elementos_unicos(vetor_de, vetor_para)\n",
    "print('N_BARRAS:', n_barras)\n",
    "matriz_G = cria_matriz_vazia_mxn(n_barras, n_barras)\n",
    "matriz_B = cria_matriz_vazia_mxn(n_barras, n_barras)\n",
    "print('MATRIZ_G:', matriz_G)\n",
    "print('MATRIZ_B:', matriz_B)"
   ]
  },
  {
   "cell_type": "markdown",
   "id": "af40ef20",
   "metadata": {},
   "source": [
    "### Inserir os elementos fora da diagonal nas Matrizes G e B "
   ]
  },
  {
   "cell_type": "markdown",
   "id": "0392e927",
   "metadata": {},
   "source": [
    "$ Y_{km} = -y_{km}$"
   ]
  },
  {
   "cell_type": "code",
   "execution_count": 147,
   "id": "07572403",
   "metadata": {},
   "outputs": [],
   "source": [
    "for k, m, contador in zip(vetor_de, vetor_para, range(n_barras + 1)):\n",
    "    # contador acompanha as posições, mas não os valores de k e m, para pode alocar \n",
    "    # corretamente os valores do vetor r_pu\n",
    "    # -1 porque listas vão de 0 até n-1\n",
    "    \n",
    "    # MATRIZ G\n",
    "    matriz_G[k-1][m-1] = round(-1 / vetor_rpu[contador], NUMERO_CASAS_DECIMAIS)\n",
    "    matriz_G[m-1][k-1] = round(-1 / vetor_rpu[contador], NUMERO_CASAS_DECIMAIS)\n",
    "\n",
    "    # MATRIZ_B\n",
    "    matriz_B[k-1][m-1] = complex(0, round(-1 / vetor_xpu[contador], NUMERO_CASAS_DECIMAIS))\n",
    "    matriz_B[m-1][k-1] = complex(0, round(-1 / vetor_xpu[contador], NUMERO_CASAS_DECIMAIS))"
   ]
  },
  {
   "cell_type": "markdown",
   "id": "9d23fc95",
   "metadata": {},
   "source": [
    "### Inserir os elementos da diagonal nas Matrizes G e B\n",
    "\n",
    "$ Y_{kk} = \\sum_{m \\in \\Omega k}(y_{km} + j\\frac{b_{km}^{sh}}{2})$ \n",
    "\n",
    "tal que, \n",
    "\n",
    "$ \\Omega_k $ é todas as barras vizinhas."
   ]
  },
  {
   "cell_type": "code",
   "execution_count": 148,
   "id": "5232cc64",
   "metadata": {},
   "outputs": [],
   "source": [
    "for k in range(1, n_barras + 1):\n",
    "    indice = 0\n",
    "    for de, para in zip(vetor_de, vetor_para):\n",
    "        indice += 1\n",
    "        if k == de: \n",
    "            #TODO: pq esse elemento diagonal não esta sendo arredondado?\n",
    "            matriz_G_kesimo_elemento = round(1 / vetor_rpu[indice-1], NUMERO_CASAS_DECIMAIS)\n",
    "            matriz_G[k-1][k-1] += matriz_G_kesimo_elemento\n",
    "            \n",
    "            #matriz_B[k-1][k-1] += complex(0, round(1 / vetor_xpu[contador], NUMERO_CASAS_DECIMAIS))\n",
    "            \n",
    "            matriz_B[k-1][k-1] += round_complex(complex(0, 1 / vetor_xpu[contador]))\n",
    "            \n",
    "            #matriz_B[k-1][k-1] += complex(0, round(((1 / vetor_bshpu[contador]) / 2), NUMERO_CASAS_DECIMAIS))\n",
    "            \n",
    "            matriz_B[k-1][k-1] += round_complex(complex(0, ((1 / vetor_bshpu[contador]) / 2)))\n",
    "        if k == para:\n",
    "            matriz_G[k-1][k-1] += round(1 / vetor_rpu[indice-1], NUMERO_CASAS_DECIMAIS)\n",
    "            \n",
    "            matriz_B[k-1][k-1] += complex(0, round(1 / vetor_xpu[contador], NUMERO_CASAS_DECIMAIS))\n",
    "            matriz_B[k-1][k-1] += complex(0, round(((1 / vetor_bshpu[contador]) / 2), NUMERO_CASAS_DECIMAIS))\n",
    "            \n",
    "            #matriz_B[k-1][k-1] += round_complex(complex(0, 1 / vetor_xpu[contador]))\n",
    "            #matriz_B[k-1][k-1] += round_complex(complex(0, (1 / (vetor_bshpu[contador] / 2))))\n",
    "            \n",
    "            "
   ]
  },
  {
   "cell_type": "markdown",
   "id": "5b0eb90f",
   "metadata": {},
   "source": [
    "# Resultado parcial: Matriz_G e Matriz_B"
   ]
  },
  {
   "cell_type": "code",
   "execution_count": 149,
   "id": "f2740135",
   "metadata": {},
   "outputs": [
    {
     "name": "stdout",
     "output_type": "stream",
     "text": [
      "MATRIZ_G: [[73.333, -20.0, -20.0, 0, -33.333], [-20.0, 70.0, -25.0, 0, -25.0], [-20.0, -25.0, 61.667, -16.667, 0], [0, 0, -16.667, 41.667, 0], [-33.333, -25.0, 0, 0, 83.333]]\n",
      "\n",
      "MATRIZ_B: [[73.077j, -9.091j, -9.091j, 0, -12.5j], [-9.091j, 73.077j, -11.111j, 0, -11.111j], [-9.091j, -11.111j, 73.077j, -7.692j, 0], [0, 0, -7.692j, 48.718j, 0], [-12.5j, -11.111j, 0, 0, 73.077j]]\n"
     ]
    }
   ],
   "source": [
    "print('MATRIZ_G:', matriz_G)\n",
    "print()\n",
    "print('MATRIZ_B:', matriz_B)"
   ]
  },
  {
   "cell_type": "markdown",
   "id": "ce17f3ac",
   "metadata": {},
   "source": [
    "## Calcular as potências\n",
    "\n",
    "$ P_k = V_k \\sum_{m \\in \\kappa}V_m (G_{km} cos \\theta_{km} + B_{km} sin \\theta_{km}) $ \n",
    "\n",
    "$ Q_k = V_k \\sum_{m \\in \\kappa}V_m (G_{km} sin \\theta_{km} - B_{km} cos \\theta_{km}) $ \n",
    "\n",
    "tal que,\n",
    "\n",
    "$ \\kappa $ é todas as barras vizinha e a própria barra."
   ]
  },
  {
   "cell_type": "markdown",
   "id": "70e2362a",
   "metadata": {},
   "source": [
    "Seja o vetor V_k inicializado com flat-start"
   ]
  },
  {
   "cell_type": "code",
   "execution_count": 150,
   "id": "68d07ec7",
   "metadata": {},
   "outputs": [
    {
     "name": "stdout",
     "output_type": "stream",
     "text": [
      "Flat-start\n",
      "V: [(1+0j), (1+0j), (1+0j), (1+0j), (1+0j)]\n"
     ]
    }
   ],
   "source": [
    "V = []\n",
    "P = []\n",
    "Q = []\n",
    "\n",
    "V_k = complex(1, 0)\n",
    "P_k = 0\n",
    "Q_k = 0\n",
    "\n",
    "for i in range(n_barras):\n",
    "    V.append(V_k)\n",
    "    P.append(P_k)\n",
    "    Q.append(Q_k)\n",
    "\n",
    "print('Flat-start')\n",
    "print('V:', V)"
   ]
  },
  {
   "cell_type": "code",
   "execution_count": 151,
   "id": "f37299fe",
   "metadata": {
    "scrolled": true
   },
   "outputs": [
    {
     "name": "stdout",
     "output_type": "stream",
     "text": [
      "P: [(426.665+0j), (415+0j), (250.001+0j), (41.667+0j), (341.66499999999996+0j)]\n",
      "Q: [-350.26300000000003j, -352.914j, -248.524j, -48.718j, -255.34199999999998j]\n"
     ]
    }
   ],
   "source": [
    "for k in range(1, n_barras + 1): # k é o número das barras (k = 1, barra = 1, ...)\n",
    "    barras_vizinhas = vizinhos_da_barra(k) \n",
    "    kappa = barras_vizinhas.copy() # Kappa é uma lista de todas as barras vizinhas mais a própria barra\n",
    "    kappa.insert(0, k)\n",
    "        \n",
    "    P_k = 0\n",
    "    Q_k = 0\n",
    "    \n",
    "    for m in kappa:\n",
    "        # IMPORTANTE: deve-se subtrair 1 quando tentar acessar\n",
    "        # as matrizes G e B, pois as barras são numeradas de 1 ... NB,\n",
    "        # mas as posições das matrizes são numera das de 0 ... NB-1\n",
    "        ### Issue: Da forma como aqui está escrito theta_k e theta_m serão sempre iguais\n",
    "        ### Solved!\n",
    "        \n",
    "        theta_k = cmath.phase(matriz_G[k-1][k-1])\n",
    "        theta_m = cmath.phase(matriz_G[k-1][m-1])\n",
    "        theta_k_m = theta_k - theta_m\n",
    "        \n",
    "        P_k += V[k-1] * (V[m-1] * matriz_G[k-1][m-1] * math.cos(theta_k_m) + matriz_B[k-1][m-1] * math.sin(theta_k_m))        \n",
    "        P_k = round_complex(P_k)\n",
    "        P[k-1] += P_k\n",
    "        #print(f'inserindo na posição {k}, o elemento {P_k}')\n",
    "        #print(f'P{k} = V{k} * V{m} * G{k}{m} * cos(theta{k}{m}) + B{k}{m} * sin(theta{k}{m})')\n",
    "\n",
    "        Q_k += V[m-1] * matriz_G[k-1][m-1] * math.sin(theta_k_m) - matriz_B[k-1][m-1] * math.cos(theta_k_m)\n",
    "        Q_k = round_complex(Q_k)\n",
    "        Q[k-1] += Q_k\n",
    "        #print(f'Q{k} = V{k} * V{m} * G{k}{m} * sin(theta{k}{m}) - B{k}{m} * cos(theta{k}{m})')\n",
    "\n",
    "print('P:', P)\n",
    "print('Q:', Q)\n"
   ]
  },
  {
   "cell_type": "markdown",
   "id": "cfbd5611",
   "metadata": {},
   "source": [
    "### Vetor mismatch"
   ]
  },
  {
   "cell_type": "code",
   "execution_count": 158,
   "id": "93113b5f",
   "metadata": {},
   "outputs": [
    {
     "name": "stdout",
     "output_type": "stream",
     "text": [
      "VETOR_P_MISMATCH: [(-426.665+0j), (-375+0j), (-225.001+0j), (-1.667+0j), (-291.665+0j)]\n",
      "VETOR_Q_MISMATCH: [350.263j, 372.914j, 263.524j, 68.718j, 275.342j]\n"
     ]
    }
   ],
   "source": [
    "vetor_p_mismatch = []\n",
    "vetor_q_mismatch = []\n",
    "for p_esperado, p_calculado in zip(vetor_P_esperado, P):\n",
    "    vetor_p_mismatch.append(round_complex(p_esperado - p_calculado))\n",
    "\n",
    "for q_esperado, q_calculado in zip(vetor_Q_esperado, Q):\n",
    "    q_esperado = complex(0, q_esperado)\n",
    "    vetor_q_mismatch.append(round_complex(q_esperado - q_calculado))\n",
    "\n",
    "print('VETOR_P_MISMATCH:', vetor_p_mismatch)\n",
    "print('VETOR_Q_MISMATCH:', vetor_q_mismatch)"
   ]
  }
 ],
 "metadata": {
  "kernelspec": {
   "display_name": "Python 3",
   "language": "python",
   "name": "python3"
  },
  "language_info": {
   "codemirror_mode": {
    "name": "ipython",
    "version": 3
   },
   "file_extension": ".py",
   "mimetype": "text/x-python",
   "name": "python",
   "nbconvert_exporter": "python",
   "pygments_lexer": "ipython3",
   "version": "3.8.5"
  }
 },
 "nbformat": 4,
 "nbformat_minor": 5
}
